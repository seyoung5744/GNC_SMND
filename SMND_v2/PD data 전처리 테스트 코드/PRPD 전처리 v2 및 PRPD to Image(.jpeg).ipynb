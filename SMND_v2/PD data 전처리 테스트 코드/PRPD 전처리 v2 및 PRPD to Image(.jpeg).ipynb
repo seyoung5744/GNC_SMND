{
 "cells": [
  {
   "cell_type": "markdown",
   "id": "e895e46a",
   "metadata": {},
   "source": [
    "# PRPS to PRPD"
   ]
  },
  {
   "cell_type": "code",
   "execution_count": 38,
   "id": "15bf0126",
   "metadata": {},
   "outputs": [
    {
     "name": "stdout",
     "output_type": "stream",
     "text": [
      "['Corona', 'Noise', 'Surface', 'Void']\n",
      "Corona\n",
      "Noise\n",
      "Surface\n",
      "Void\n",
      "Wall time: 12.2 s\n"
     ]
    }
   ],
   "source": [
    "%%time\n",
    "import os\n",
    "import pandas as pd\n",
    "import numpy as np\n",
    "\n",
    "\n",
    "\n",
    "sub_folder_name = \"\"\n",
    "CONVERTED_FOLDER_DIR = \"./Cross Correlation Data/Cross Correlation_위상변환_PRPD/test/\"\n",
    "ORIGIN_FOLDER_DIR = \"./Cross Correlation Data/Cross Correlation_위상변환_PRPS/test/\"\n",
    "\n",
    "labels = [label for label in os.listdir(ORIGIN_FOLDER_DIR)] # ['03. Noise (54)', '00. Void (204)', '02. Surface (144)', '01. Corona (81)']\n",
    "# labels = [label.split(\" \")[1] for label in root_labels] # ['Noise', 'Void', 'Surface', 'Corona']\n",
    "print(labels)\n",
    "\n",
    "# Create save folder\n",
    "for label in labels:\n",
    "    added_folder_name = CONVERTED_FOLDER_DIR+label #* ./data/05. 표준데이터(PRPD)/Void ... ./data/05. 표준데이터(PRPD)/Corona\n",
    "    if not os.path.exists(added_folder_name):\n",
    "        os.makedirs(added_folder_name)\n",
    "        \n",
    "# Preprocessing prps to prpd    \n",
    "for label in (labels):\n",
    "    print(label)\n",
    "    file_list = os.listdir(ORIGIN_FOLDER_DIR + label)\n",
    "    \n",
    "    for i in range(len(file_list)):\n",
    "        prps = pd.read_csv(ORIGIN_FOLDER_DIR + label + \"/\" + file_list[i], names=range(0,256))\n",
    "        \n",
    "        box = np.full((256,256), 0)\n",
    "        for row, data_series in prps.iteritems():\n",
    "            datas = data_series.value_counts()\n",
    "            for col, data in datas.iteritems():\n",
    "                box[row,col] = data\n",
    "\n",
    "\n",
    "        data_df = pd.DataFrame(box, index = range(0, 256), columns=range(0, 256))\n",
    "        data_df = data_df.T\n",
    "        data_df = data_df.sort_index(ascending=False)\n",
    "        \n",
    "        data_df.to_csv(CONVERTED_FOLDER_DIR + label + \"/\" + file_list[i].split(\"[\")[0] + \"[PRPD변환].csv\"  , index = False, header=False,  mode=\"w\")"
   ]
  },
  {
   "cell_type": "markdown",
   "id": "50351229",
   "metadata": {},
   "source": [
    "# PRPD to Image(.jpeg)"
   ]
  },
  {
   "cell_type": "code",
   "execution_count": 57,
   "id": "1c9babbf",
   "metadata": {},
   "outputs": [],
   "source": [
    "from tqdm import tqdm\n",
    "import cv2\n",
    "import pandas as pd\n",
    "import matplotlib.pyplot as plt\n",
    "import PIL"
   ]
  },
  {
   "cell_type": "code",
   "execution_count": 83,
   "id": "a9e89a26",
   "metadata": {},
   "outputs": [
    {
     "name": "stdout",
     "output_type": "stream",
     "text": [
      "Loading ./Cross Correlation Data/Cross Correlation_위상변환_PRPD/test/\n"
     ]
    },
    {
     "name": "stderr",
     "output_type": "stream",
     "text": [
      "100%|█████████████████████████████████████████████████████████████████████████████████| 64/64 [00:00<00:00, 107.31it/s]\n",
      "100%|█████████████████████████████████████████████████████████████████████████████████| 43/43 [00:00<00:00, 108.06it/s]\n",
      "100%|███████████████████████████████████████████████████████████████████████████████| 115/115 [00:01<00:00, 104.16it/s]\n",
      "100%|███████████████████████████████████████████████████████████████████████████████| 163/163 [00:01<00:00, 106.22it/s]\n"
     ]
    }
   ],
   "source": [
    "images = []\n",
    "files = []\n",
    "\n",
    "class_labels = []\n",
    "print(\"Loading {}\".format(CONVERTED_FOLDER_DIR))\n",
    "\n",
    "CONVERTED_FOLDER_DIR = \"./Cross Correlation Data/Cross Correlation_위상변환_PRPD/train/\"\n",
    "  \n",
    "for label in labels: # ['Noise', 'Void', 'Surface', 'Corona']\n",
    "    for file in tqdm(os.listdir(os.path.join(CONVERTED_FOLDER_DIR, label))): \n",
    "        img_path = os.path.join(os.path.join(CONVERTED_FOLDER_DIR, label), file) \n",
    "\n",
    "        image = pd.read_csv(img_path, names=range(0, 256))\n",
    "        image = np.pad(image, (2,2), 'constant', constant_values=0) # 256 -> 260\n",
    "        image = np.reshape(image, (260, 260, 1))\n",
    "        \n",
    "        images.append(image)\n",
    "        files.append((label, img_path))"
   ]
  },
  {
   "cell_type": "markdown",
   "id": "e95a8836",
   "metadata": {},
   "source": [
    "### 0 이외의 숫자 1로 정규화"
   ]
  },
  {
   "cell_type": "code",
   "execution_count": 84,
   "id": "aab3f43b",
   "metadata": {},
   "outputs": [
    {
     "data": {
      "text/plain": [
       "(385, 260, 260, 1)"
      ]
     },
     "execution_count": 84,
     "metadata": {},
     "output_type": "execute_result"
    }
   ],
   "source": [
    "images = np.array(images)\n",
    "\n",
    "# 0 이외의 숫자 1로 정규화\n",
    "images[images > 0] = 1\n",
    "images = images.astype('float32')\n",
    "images.shape"
   ]
  },
  {
   "cell_type": "code",
   "execution_count": 85,
   "id": "4f487051",
   "metadata": {},
   "outputs": [
    {
     "data": {
      "image/png": "[encoded data removed]",
      "text/plain": [
       "<Figure size 432x288 with 1 Axes>"
      ]
     },
     "metadata": {
      "needs_background": "light"
     },
     "output_type": "display_data"
    }
   ],
   "source": [
    "da = np.reshape(images[0], (260,260))\n",
    "plt.hist(da)\n",
    "plt.show()"
   ]
  },
  {
   "cell_type": "code",
   "execution_count": 86,
   "id": "b9a56455",
   "metadata": {},
   "outputs": [],
   "source": [
    "images_3 = np.full((images.shape[0], 260, 260, 3), 0.0)\n",
    "\n",
    "for i, s in enumerate(images):\n",
    "    images_3[i] = cv2.cvtColor(s, cv2.COLOR_GRAY2RGB) "
   ]
  },
  {
   "cell_type": "code",
   "execution_count": 87,
   "id": "3bb62ea1",
   "metadata": {},
   "outputs": [
    {
     "name": "stdout",
     "output_type": "stream",
     "text": [
      "('Corona', './Cross Correlation Data/Cross Correlation_위상변환_PRPD/train/Corona\\\\SMND_345kV_EBG_A_S_0A_62_20190515132500.dat[PRPD변환].csv')\n"
     ]
    },
    {
     "data": {
      "image/png": "[encoded data removed]",
      "text/plain": [
       "<Figure size 432x288 with 1 Axes>"
      ]
     },
     "metadata": {
      "needs_background": "light"
     },
     "output_type": "display_data"
    }
   ],
   "source": [
    "g = plt.imshow(images_3[0])\n",
    "print(files[0])"
   ]
  },
  {
   "cell_type": "code",
   "execution_count": 88,
   "id": "c332eed3",
   "metadata": {},
   "outputs": [
    {
     "data": {
      "text/plain": [
       "(385, 260, 260, 3)"
      ]
     },
     "execution_count": 88,
     "metadata": {},
     "output_type": "execute_result"
    }
   ],
   "source": [
    "# images_3 = images_3.astype('float32')\n",
    "images_3.shape"
   ]
  },
  {
   "cell_type": "code",
   "execution_count": 89,
   "id": "45546b8b",
   "metadata": {},
   "outputs": [],
   "source": [
    "CONVERTED_JPEG_FOLDER_DIR = \"./Cross Correlation Data/Cross Correlation_위상변환_PRPD_jpeg/train/\"\n",
    "\n",
    "# Create save folder\n",
    "for label in labels:\n",
    "    added_folder_name = CONVERTED_JPEG_FOLDER_DIR+label #* ./data/05. 표준데이터(PRPD)/Void ... ./data/05. 표준데이터(PRPD)/Corona\n",
    "    if not os.path.exists(added_folder_name):\n",
    "        os.makedirs(added_folder_name)\n",
    "        \n",
    "for image, file in zip(images_3, files):\n",
    "    label, file_name = file\n",
    "    file_name = file_name.split('\\\\')[-1].split(\"csv\")[0]\n",
    "    plt.imsave(CONVERTED_JPEG_FOLDER_DIR + label + \"/\"+file_name+\"jpeg\",image)"
   ]
  },
  {
   "cell_type": "code",
   "execution_count": null,
   "id": "3729a6f8",
   "metadata": {},
   "outputs": [],
   "source": []
  }
 ],
 "metadata": {
  "kernelspec": {
   "display_name": "smnd",
   "language": "python",
   "name": "smnd"
  },
  "language_info": {
   "codemirror_mode": {
    "name": "ipython",
    "version": 3
   },
   "file_extension": ".py",
   "mimetype": "text/x-python",
   "name": "python",
   "nbconvert_exporter": "python",
   "pygments_lexer": "ipython3",
   "version": "3.8.11"
  }
 },
 "nbformat": 4,
 "nbformat_minor": 5
}
