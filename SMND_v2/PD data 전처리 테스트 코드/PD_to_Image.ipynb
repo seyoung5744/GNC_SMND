{
 "cells": [
  {
   "cell_type": "code",
   "execution_count": 3,
   "id": "171b2785",
   "metadata": {},
   "outputs": [],
   "source": [
    "files = [\"./data/05. 표준데이터(PRPD)/Corona/SMND_345kV_EBG_A_S_0A_62_20190515132500.dat[PRPD변환].csv\",\n",
    "        \"./data/05. 표준데이터(PRPD)/Corona/SMND_345kV_EBG_A_S_0A_62_20190515132600.dat[PRPD변환].csv\",\n",
    "        \"./data/05. 표준데이터(PRPD)/Corona/SMND_345kV_EBG_A_S_0A_62_20190515132700.dat[PRPD변환].csv\",\n",
    "        \"./data/05. 표준데이터(PRPD)/Corona/SMND_345kV_EBG_A_S_0A_62_20190515132800.dat[PRPD변환].csv\"]"
   ]
  },
  {
   "cell_type": "code",
   "execution_count": 7,
   "id": "6213a15b",
   "metadata": {},
   "outputs": [],
   "source": [
    "import os\n",
    "import cv2\n",
    "import pandas as pd\n",
    "import matplotlib.pyplot as plt\n",
    "import numpy as np\n",
    "\n",
    "\n",
    "def PD2Image(file_paths):\n",
    "    images = []\n",
    "    for img_path in file_paths:\n",
    "\n",
    "        image = pd.read_csv(img_path, names=range(0, 256))\n",
    "        image = np.pad(image, (2,2), 'constant', constant_values=0) # 256 -> 260\n",
    "        image = np.reshape(image, (260, 260, 1))\n",
    "\n",
    "        images.append(image)\n",
    "\n",
    "    \"\"\"\n",
    "    channle 1D -> 3D \n",
    "    \"\"\"        \n",
    "    images = np.array(images)\n",
    "\n",
    "    # 0 이외의 숫자 1로 정규화\n",
    "    images[images > 0] = 1\n",
    "    images = images.astype('float32')\n",
    "\n",
    "    images_3 = np.full((images.shape[0], 260, 260, 3), 0.0)\n",
    "\n",
    "    for i, s in enumerate(images):\n",
    "        images_3[i] = cv2.cvtColor(s, cv2.COLOR_GRAY2RGB) \n",
    "\n",
    "\n",
    "    CONVERTED_JPEG_FOLDER_DIR = \"./data\"\n",
    "\n",
    "    \"\"\"\n",
    "    이미지 저장 폴더 생성\n",
    "    \"\"\"\n",
    "#     return images_3\n",
    "    for image, file in zip(images_3,file_paths):\n",
    "        file_name = file.split(\"/\")[-1]\n",
    "        print(file_name)\n",
    "        file_name = file_name.split(\"]\")[0]\n",
    "        print(file_name)\n",
    "#         plt.imsave(CONVERTED_JPEG_FOLDER_DIR + \"/\"+file_name+\"].jpeg\",image)"
   ]
  },
  {
   "cell_type": "code",
   "execution_count": 8,
   "id": "37123253",
   "metadata": {},
   "outputs": [
    {
     "name": "stdout",
     "output_type": "stream",
     "text": [
      "SMND_345kV_EBG_A_S_0A_62_20190515132500.dat[PRPD변환].csv\n",
      "SMND_345kV_EBG_A_S_0A_62_20190515132500.dat[PRPD변환\n",
      "SMND_345kV_EBG_A_S_0A_62_20190515132600.dat[PRPD변환].csv\n",
      "SMND_345kV_EBG_A_S_0A_62_20190515132600.dat[PRPD변환\n",
      "SMND_345kV_EBG_A_S_0A_62_20190515132700.dat[PRPD변환].csv\n",
      "SMND_345kV_EBG_A_S_0A_62_20190515132700.dat[PRPD변환\n",
      "SMND_345kV_EBG_A_S_0A_62_20190515132800.dat[PRPD변환].csv\n",
      "SMND_345kV_EBG_A_S_0A_62_20190515132800.dat[PRPD변환\n"
     ]
    }
   ],
   "source": [
    "images = PD2Image(files)"
   ]
  },
  {
   "cell_type": "code",
   "execution_count": 46,
   "id": "7592514c",
   "metadata": {},
   "outputs": [
    {
     "data": {
      "text/plain": [
       "(4, 260, 260, 3)"
      ]
     },
     "execution_count": 46,
     "metadata": {},
     "output_type": "execute_result"
    }
   ],
   "source": [
    "images.shape"
   ]
  },
  {
   "cell_type": "code",
   "execution_count": 47,
   "id": "3bb4477a",
   "metadata": {},
   "outputs": [
    {
     "data": {
      "text/plain": [
       "4"
      ]
     },
     "execution_count": 47,
     "metadata": {},
     "output_type": "execute_result"
    }
   ],
   "source": [
    "len(images)"
   ]
  },
  {
   "cell_type": "code",
   "execution_count": null,
   "id": "164d35b0",
   "metadata": {},
   "outputs": [],
   "source": []
  }
 ],
 "metadata": {
  "kernelspec": {
   "display_name": "smnd",
   "language": "python",
   "name": "smnd"
  },
  "language_info": {
   "codemirror_mode": {
    "name": "ipython",
    "version": 3
   },
   "file_extension": ".py",
   "mimetype": "text/x-python",
   "name": "python",
   "nbconvert_exporter": "python",
   "pygments_lexer": "ipython3",
   "version": "3.8.11"
  }
 },
 "nbformat": 4,
 "nbformat_minor": 5
}
