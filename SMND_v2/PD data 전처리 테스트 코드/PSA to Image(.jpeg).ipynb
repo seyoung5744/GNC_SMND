{
 "cells": [
  {
   "cell_type": "code",
   "execution_count": 1,
   "id": "1c9babbf",
   "metadata": {},
   "outputs": [],
   "source": [
    "import os\n",
    "import pandas as pd\n",
    "import numpy as np\n",
    "\n",
    "import cv2\n",
    "import matplotlib.pyplot as plt\n",
    "from tqdm import tqdm\n"
   ]
  },
  {
   "cell_type": "code",
   "execution_count": null,
   "id": "b6684ced",
   "metadata": {},
   "outputs": [],
   "source": [
    "# CONVERTED_FOLDER_DIR = \"./data/02. 표준데이터(PSA)/\"\n",
    "\n",
    "CONVERTED_FOLDER_DIR = \"./Cross Correlation Data/Cross Correlation_위상변환_PSA/test/\"\n",
    "CONVERTED_JPEG_FOLDER_DIR = \"./Cross Correlation Data/Cross Correlation_위상변환_PSA_jpeg/test/\""
   ]
  },
  {
   "cell_type": "code",
   "execution_count": 18,
   "id": "a9e89a26",
   "metadata": {},
   "outputs": [
    {
     "name": "stdout",
     "output_type": "stream",
     "text": [
      "['Corona', 'Noise', 'Surface', 'Void']\n"
     ]
    }
   ],
   "source": [
    "labels = [label for label in os.listdir(CONVERTED_FOLDER_DIR)] # ['03. Noise (54)', '00. Void (204)', '02. Surface (144)', '01. Corona (81)']\n",
    "print(labels)\n",
    "\n",
    "images = []\n",
    "files = []\n",
    "\n",
    "class_labels = []\n",
    "print(\"Loading {}\".format(CONVERTED_FOLDER_DIR))\n",
    "  \n",
    "for label in labels: # ['Noise', 'Void', 'Surface', 'Corona']\n",
    "    for file in tqdm(os.listdir(os.path.join(CONVERTED_FOLDER_DIR, label))): \n",
    "        img_path = os.path.join(os.path.join(CONVERTED_FOLDER_DIR, label), file) # ./split_data/05. 표준데이터(PRPD)/train/Noise/SMND_345kV_EBG_A_S_0A_62_20190613164700.dat[PRPD변환].csv\n",
    "\n",
    "        image = pd.read_csv(img_path, names=range(0, 256))\n",
    "        image = np.pad(image, (2,2), 'constant', constant_values=0) # 256 -> 260\n",
    "        image = np.reshape(image, (260, 260, 1))\n",
    "        \n",
    "        images.append(image)\n",
    "        files.append((label, img_path))"
   ]
  },
  {
   "cell_type": "code",
   "execution_count": 10,
   "id": "aab3f43b",
   "metadata": {},
   "outputs": [
    {
     "data": {
      "text/plain": [
       "(98, 260, 260, 1)"
      ]
     },
     "execution_count": 10,
     "metadata": {},
     "output_type": "execute_result"
    }
   ],
   "source": [
    "images = np.array(images)\n",
    "\n",
    "# 0 이외의 숫자 1로 정규화\n",
    "images[images > 0] = 1\n",
    "images = images.astype('float32')\n",
    "images.shape"
   ]
  },
  {
   "cell_type": "code",
   "execution_count": 11,
   "id": "4f487051",
   "metadata": {},
   "outputs": [
    {
     "data": {
      "image/png": "[encoded data removed]",
      "text/plain": [
       "<Figure size 432x288 with 1 Axes>"
      ]
     },
     "metadata": {
      "needs_background": "light"
     },
     "output_type": "display_data"
    }
   ],
   "source": [
    "da = np.reshape(images[0], (260,260))\n",
    "plt.hist(da)\n",
    "plt.show()"
   ]
  },
  {
   "cell_type": "code",
   "execution_count": 12,
   "id": "b9a56455",
   "metadata": {},
   "outputs": [],
   "source": [
    "images_3 = np.full((images.shape[0], 260, 260, 3), 0.0)\n",
    "\n",
    "for i, s in enumerate(images):\n",
    "    images_3[i] = cv2.cvtColor(s, cv2.COLOR_GRAY2RGB) "
   ]
  },
  {
   "cell_type": "code",
   "execution_count": 13,
   "id": "3bb62ea1",
   "metadata": {},
   "outputs": [
    {
     "name": "stdout",
     "output_type": "stream",
     "text": [
      "('Corona', './Cross Correlation Data/Cross Correlation_위상변환_PSA/test/Corona\\\\SMND_345kV_EBG_A_S_0A_62_20190515133600.dat[PSA변환].csv')\n",
      "(98, 260, 260, 3)\n"
     ]
    },
    {
     "data": {
      "image/png": "[encoded data removed]",
      "text/plain": [
       "<Figure size 432x288 with 1 Axes>"
      ]
     },
     "metadata": {
      "needs_background": "light"
     },
     "output_type": "display_data"
    }
   ],
   "source": [
    "g = plt.imshow(images_3[0])\n",
    "print(files[0])\n",
    "print(images_3.shape)"
   ]
  },
  {
   "cell_type": "code",
   "execution_count": 14,
   "id": "cb6feba3",
   "metadata": {},
   "outputs": [],
   "source": [
    "\n",
    "# Create save folder\n",
    "for label in labels:\n",
    "    added_folder_name = CONVERTED_JPEG_FOLDER_DIR+label \n",
    "    if not os.path.exists(added_folder_name):\n",
    "        os.makedirs(added_folder_name)\n",
    "        \n",
    "for image, file in zip(images_3, files):\n",
    "    label, file_name = file\n",
    "    file_name = file_name.split('\\\\')[-1].split(\"csv\")[0]\n",
    "    plt.imsave(CONVERTED_JPEG_FOLDER_DIR + label + \"/\"+file_name+\"jpeg\",image)"
   ]
  }
 ],
 "metadata": {
  "kernelspec": {
   "display_name": "smnd",
   "language": "python",
   "name": "smnd"
  },
  "language_info": {
   "codemirror_mode": {
    "name": "ipython",
    "version": 3
   },
   "file_extension": ".py",
   "mimetype": "text/x-python",
   "name": "python",
   "nbconvert_exporter": "python",
   "pygments_lexer": "ipython3",
   "version": "3.8.11"
  }
 },
 "nbformat": 4,
 "nbformat_minor": 5
}
