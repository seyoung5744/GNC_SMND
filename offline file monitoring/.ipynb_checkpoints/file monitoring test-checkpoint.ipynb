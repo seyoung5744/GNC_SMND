{
 "cells": [
  {
   "cell_type": "code",
   "execution_count": 9,
   "id": "07d33568",
   "metadata": {},
   "outputs": [],
   "source": [
    "import os\n",
    "import time\n",
    "from watchdog.observers import Observer\n",
    "from watchdog.events import FileSystemEventHandler\n",
    "\n",
    "import pandas as pd\n",
    "import numpy as np\n",
    "from multiprocessing import Process, Queue\n",
    "\n",
    "from tensorflow.keras.models import load_model\n"
   ]
  },
  {
   "cell_type": "code",
   "execution_count": 63,
   "id": "f602cc66",
   "metadata": {},
   "outputs": [
    {
     "name": "stdout",
     "output_type": "stream",
     "text": [
      "<FileDeletedEvent: event_type=deleted, src_path='./data/SMND_345kV_EBG_A_S_0A_62_20190515143700.dat[PRPS변환].csv', is_directory=False>\n",
      "<FileDeletedEvent: event_type=deleted, src_path='./data/SMND_345kV_EBG_A_S_0A_62_20190515143800.dat[PRPS변환].csv', is_directory=False>\n",
      "<FileDeletedEvent: event_type=deleted, src_path='./data/SMND_345kV_EBG_A_S_0A_62_20190515143600.dat[PRPS변환].csv', is_directory=False>\n",
      "<FileCreatedEvent: event_type=created, src_path='./data/SMND_345kV_EBG_A_S_0A_62_20190515143700.dat[PRPS변환].csv', is_directory=False>\n",
      "<FileCreatedEvent: event_type=created, src_path='./data/SMND_345kV_EBG_A_S_0A_62_20190515143800.dat[PRPS변환].csv', is_directory=False>\n",
      "<FileCreatedEvent: event_type=created, src_path='./data/SMND_345kV_EBG_A_S_0A_62_20190515143600.dat[PRPS변환].csv', is_directory=False>\n"
     ]
    },
    {
     "name": "stderr",
     "output_type": "stream",
     "text": [
      "C:\\Users\\seyou\\AppData\\Local\\Temp/ipykernel_16472/1770284245.py:60: RuntimeWarning: coroutine 'prps2prpd' was never awaited\n",
      "  prps2prpd()\n",
      "RuntimeWarning: Enable tracemalloc to get the object allocation traceback\n"
     ]
    },
    {
     "name": "stdout",
     "output_type": "stream",
     "text": [
      "Error\n"
     ]
    }
   ],
   "source": [
    "\n",
    "async def prps2prpd():\n",
    "    file_lists = os.listdir(\"./data\")\n",
    "    file_name = file_lists[-1]\n",
    "    file_root = \"./data/\" + file_name\n",
    "    \n",
    "    print(file_root, type(file_root))\n",
    "    \n",
    "    try:\n",
    "        \n",
    "        data = pd.read_csv(file_root, names=range(0,256))\n",
    "        box = np.full((256, 256), 0)\n",
    "\n",
    "        for row, data_series in data.iteritems():\n",
    "            datas = data_series.value_counts()\n",
    "            for col, data in datas.iteritems():\n",
    "                box[row,col] = data\n",
    "\n",
    "        data_df = pd.DataFrame(box, index=range(0, 256), columns=range(0, 256))\n",
    "        data_df = data_df.transpose()\n",
    "        data_df = data_df.sort_index(ascending=False)\n",
    "\n",
    "\n",
    "    #             data_df.to_csv('./PRPD/prpd.csv', index=False, header=False, mode=\"w\")\n",
    "        data_df.to_csv(\"./PRPD/\" + file_name.split(\"[\")[0] + \"[PRPD변환].csv\"  , index = False, header=False,  mode=\"w\")\n",
    "#         await asyncio.sleep(1.5)\n",
    "    except Exception as e:\n",
    "        print(\"------------파일 변환 중 오류 발생-----------\\n\", e)\n",
    "\n",
    "            \n",
    "class Target:\n",
    "#     watchDir = os.getcwd()\n",
    "    watchDir = \"./data/\"\n",
    "    #watchDir에 감시하려는 디렉토리를 명시한다.\n",
    "\n",
    "    def __init__(self):\n",
    "        self.observer = Observer()   #observer객체를 만듦\n",
    "\n",
    "    def run(self):\n",
    "        event_handler = Handler()\n",
    "        self.observer.schedule(event_handler, self.watchDir, recursive=True)\n",
    "        self.observer.start()\n",
    "        try:\n",
    "            while True:\n",
    "                time.sleep(1)\n",
    "        except:\n",
    "            self.observer.stop()\n",
    "            print(\"Error\")\n",
    "            self.observer.join()\n",
    "\n",
    "class Handler(FileSystemEventHandler):\n",
    "#FileSystemEventHandler 클래스를 상속받음.\n",
    "#아래 핸들러들을 오버라이드 함\n",
    "\n",
    "    #파일, 디렉터리가 move 되거나 rename 되면 실행\n",
    "    def on_moved(self, event):\n",
    "        print(event)\n",
    "\n",
    "    def on_created(self, event): #파일, 디렉터리가 생성되면 실행\n",
    "        print(event)\n",
    "        prps2prpd()\n",
    "#         await asyncio.wait(prps2prpd())\n",
    "\n",
    "    def on_deleted(self, event): #파일, 디렉터리가 삭제되면 실행\n",
    "        print(event)\n",
    "\n",
    "#     def on_modified(self, event): #파일, 디렉터리가 수정되면 실행\n",
    "#         print(event)\n",
    "\n",
    "if __name__ == '__main__': #본 파일에서 실행될 때만 실행되도록 함\n",
    "    w = Target()\n",
    "    w.run()"
   ]
  },
  {
   "cell_type": "code",
   "execution_count": 10,
   "id": "b03c750f",
   "metadata": {},
   "outputs": [],
   "source": [
    "data = pd.read_csv('./data/SMND_345kV_EBG_A_S_0A_62_20190515143600.dat[PRPS변환].csv', names=range(0,256))\n",
    "box = np.full((256, 256), 0)\n",
    "\n",
    "for row, data_series in data.iteritems():\n",
    "    datas = data_series.value_counts()\n",
    "    for col, data in datas.iteritems():\n",
    "        box[row,col] = data\n",
    "\n",
    "data_df = pd.DataFrame(box, index=range(0, 256), columns=range(0, 256))\n",
    "data_df = data_df.transpose()\n",
    "data_df = data_df.sort_index(ascending=False)"
   ]
  },
  {
   "cell_type": "code",
   "execution_count": 11,
   "id": "121474fb",
   "metadata": {},
   "outputs": [
    {
     "data": {
      "text/plain": [
       "array([[   0,    0,    0, ...,    0,    0,    0],\n",
       "       [   0,    0,    0, ...,    0,    0,    0],\n",
       "       [   0,    0,    0, ...,    0,    0,    0],\n",
       "       ...,\n",
       "       [   0,    1,    0, ...,    0,    0,    0],\n",
       "       [   0,    0,    0, ...,    0,    0,    0],\n",
       "       [3568, 3559, 3528, ..., 3599, 3596, 3586]])"
      ]
     },
     "execution_count": 11,
     "metadata": {},
     "output_type": "execute_result"
    }
   ],
   "source": [
    "data_df.to_numpy()"
   ]
  },
  {
   "cell_type": "code",
   "execution_count": 12,
   "id": "a21c1df8",
   "metadata": {},
   "outputs": [
    {
     "data": {
      "text/plain": [
       "(256, 256)"
      ]
     },
     "execution_count": 12,
     "metadata": {},
     "output_type": "execute_result"
    }
   ],
   "source": [
    "data_df.to_numpy().shape"
   ]
  },
  {
   "cell_type": "code",
   "execution_count": 13,
   "id": "b1b2b73e",
   "metadata": {},
   "outputs": [
    {
     "data": {
      "text/plain": [
       "array([[[[   0],\n",
       "         [   0],\n",
       "         [   0],\n",
       "         ...,\n",
       "         [   0],\n",
       "         [   0],\n",
       "         [   0]],\n",
       "\n",
       "        [[   0],\n",
       "         [   0],\n",
       "         [   0],\n",
       "         ...,\n",
       "         [   0],\n",
       "         [   0],\n",
       "         [   0]],\n",
       "\n",
       "        [[   0],\n",
       "         [   0],\n",
       "         [   0],\n",
       "         ...,\n",
       "         [   0],\n",
       "         [   0],\n",
       "         [   0]],\n",
       "\n",
       "        ...,\n",
       "\n",
       "        [[   0],\n",
       "         [   1],\n",
       "         [   0],\n",
       "         ...,\n",
       "         [   0],\n",
       "         [   0],\n",
       "         [   0]],\n",
       "\n",
       "        [[   0],\n",
       "         [   0],\n",
       "         [   0],\n",
       "         ...,\n",
       "         [   0],\n",
       "         [   0],\n",
       "         [   0]],\n",
       "\n",
       "        [[3568],\n",
       "         [3559],\n",
       "         [3528],\n",
       "         ...,\n",
       "         [3599],\n",
       "         [3596],\n",
       "         [3586]]]])"
      ]
     },
     "execution_count": 13,
     "metadata": {},
     "output_type": "execute_result"
    }
   ],
   "source": [
    "image = np.reshape(data_df.to_numpy(), (-1, 256, 256, 1))\n",
    "image"
   ]
  },
  {
   "cell_type": "code",
   "execution_count": 14,
   "id": "a61a3e3d",
   "metadata": {},
   "outputs": [
    {
     "data": {
      "text/plain": [
       "(1, 256, 256, 1)"
      ]
     },
     "execution_count": 14,
     "metadata": {},
     "output_type": "execute_result"
    }
   ],
   "source": [
    "image.shape"
   ]
  },
  {
   "cell_type": "code",
   "execution_count": 15,
   "id": "2c436833",
   "metadata": {},
   "outputs": [],
   "source": [
    "model = load_model('./model/prpd.h5')\n",
    "    "
   ]
  },
  {
   "cell_type": "code",
   "execution_count": 17,
   "id": "cd41eee1",
   "metadata": {},
   "outputs": [
    {
     "name": "stdout",
     "output_type": "stream",
     "text": [
      "[1]\n"
     ]
    }
   ],
   "source": [
    "predictions = model.predict(image).round(3)\n",
    "pred_labels = np.argmax(predictions, axis=1)\n",
    "print(pred_labels)"
   ]
  }
 ],
 "metadata": {
  "kernelspec": {
   "display_name": "file_monitoring",
   "language": "python",
   "name": "file_monitoring"
  },
  "language_info": {
   "codemirror_mode": {
    "name": "ipython",
    "version": 3
   },
   "file_extension": ".py",
   "mimetype": "text/x-python",
   "name": "python",
   "nbconvert_exporter": "python",
   "pygments_lexer": "ipython3",
   "version": "3.8.0"
  }
 },
 "nbformat": 4,
 "nbformat_minor": 5
}
